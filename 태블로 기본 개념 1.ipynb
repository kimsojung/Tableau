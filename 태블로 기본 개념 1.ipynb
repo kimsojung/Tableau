{
 "cells": [
  {
   "cell_type": "markdown",
   "metadata": {},
   "source": [
    "# 차원과 측정값 "
   ]
  },
  {
   "cell_type": "markdown",
   "metadata": {},
   "source": [
    "차원: 측정값을 나누는 기준, x값 (ex. '회사의 매출액을 월별로 검토' 중 월)\n",
    "측정값: 분석 대상이 되는 값, y값 (ex. '회사의 매출액을 월별로 검토' 중 매출액)\n",
    "* 레코드 수(Number of Records)데이터셋의 행(Row) 개수"
   ]
  },
  {
   "cell_type": "markdown",
   "metadata": {},
   "source": [
    "# 연속형과 불연속형 "
   ]
  },
  {
   "cell_type": "markdown",
   "metadata": {},
   "source": [
    "대부분 불연속형은 차원, 연속형은 측정값이나 반대의 경우도 있음 \n",
    "불연속형 측정값: 집계된 측정값을 기준으로 문자열에 할당되는 경우 \n",
    "ex) profitability: IF SUM([profit]) > 10000 THEN' profitable' ELES 'unprofitable' END\n",
    "-> Profitability 문자열 필드는 결국 Profit의 합계(SUM(Profit))에 대한 레이블일 뿐, 본질은 SUM(Profit)\n",
    "불연속형 차원\n",
    "ex) profitability: IF [profit] > 10000 THEN' profitable' ELES 'unprofitable' END\n",
    "-> Profit으로 주어진 수치 하나 하나(Row Data 레벨)를 Profitable 또는 Unprofitable로 판단\n",
    "불연속형 - 태블로 화면상 파란색(blue pill)\n",
    "연속형 - 태블로 화면상 초록색(green pill)\n",
    "\n",
    "날짜 \n",
    "불연속형 날짜\n",
    "- 하위날짜 단위와 상위날짜 단위가 독립적으로 작동함 \n",
    "불연속형 날짜\n",
    "- 하위날짜 단위와 상위날짜 단위가 맞물려 연속적으로 작동함"
   ]
  },
  {
   "cell_type": "markdown",
   "metadata": {},
   "source": [
    "# Level of Detail "
   ]
  },
  {
   "cell_type": "markdown",
   "metadata": {},
   "source": [
    "Q:\"차원과 측정값 중 오직 차원만 화면의 Level of Detail을 결정한다\"\n",
    "A: 불연속형 측정값의 경우 lod를 결정할 수 있다"
   ]
  },
  {
   "cell_type": "markdown",
   "metadata": {},
   "source": [
    "# Filter"
   ]
  },
  {
   "cell_type": "markdown",
   "metadata": {},
   "source": [
    "연결 - 라이브 : 라이브로 데이터 쿼리를 통해 데이터 추출 \n",
    "연결 - 추출 : 데이터 추출 후 파일로 저장  \n",
    "\n",
    "* 행: (합계) sales / 열: region 일때 filter를 (합계)sales로 걸면 region 별 sales 합이 filter 기준값 이상인 region만 보여준다 \n",
    "Q. 필터링 방법을 모든값으로 설정하면 각 row 별로 filter 기준값 이상인 경우만 보여주는지?"
   ]
  },
  {
   "cell_type": "markdown",
   "metadata": {},
   "source": [
    "* 비율로 표기하기 \n",
    "퀵 테이블 계산 > 구성비율 \n",
    "\n",
    "filter 계산 순서 "
   ]
  },
  {
   "cell_type": "markdown",
   "metadata": {},
   "source": [
    "# Dual axis "
   ]
  },
  {
   "cell_type": "markdown",
   "metadata": {},
   "source": [
    "1. 이중축\n",
    "-> 행에 측정값 2개를 위치 \n",
    "-> 왼/오에 측정값 스케일별 축이 생성됨\n",
    "장점: 마크카드가 2개여서 측정값별 표시를 따로 할 수 있음 \n",
    "\n",
    "2. combined axis \n",
    "-> 축 위에 제 2의 측정값을 드래그 \n",
    "-> 측정값 2개를 화면상 나란히 위치 \n",
    "장점: 이중축을 한번더 사용할 수 있음 \n",
    "\n",
    "3. 특정 부분을 강조해 맥락을 주고 싶을때  \n",
    "-> 특정 차원의 그래프를 강조할 수 있음 "
   ]
  }
 ],
 "metadata": {
  "kernelspec": {
   "display_name": "Python 3",
   "language": "python",
   "name": "python3"
  },
  "language_info": {
   "codemirror_mode": {
    "name": "ipython",
    "version": 3
   },
   "file_extension": ".py",
   "mimetype": "text/x-python",
   "name": "python",
   "nbconvert_exporter": "python",
   "pygments_lexer": "ipython3",
   "version": "3.7.3"
  }
 },
 "nbformat": 4,
 "nbformat_minor": 2
}
