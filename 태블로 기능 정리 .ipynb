{
 "cells": [
  {
   "cell_type": "markdown",
   "metadata": {},
   "source": [
    "# calculated field"
   ]
  },
  {
   "cell_type": "markdown",
   "metadata": {},
   "source": [
    ": 데이터에 있는 필드(데이터 열)를 사용해서 새로운 필드를 만드는 작업 \n",
    "\n",
    "\n",
    "* sum([profit]) / sum([sales]) -> profit, sales 칼럼별 sum 후, sum([profit]) / sum([sales])를 계산\n",
    "  [profit]/[sales] -> profit/sum를 row by row로 계산 후, sum을 함\n",
    "* 집계함수를 쓰지 않고 계산하는 경우 과부하 생기기 쉬우므로 사용 자제 \n"
   ]
  },
  {
   "cell_type": "markdown",
   "metadata": {},
   "source": [
    "### if"
   ]
  },
  {
   "cell_type": "markdown",
   "metadata": {},
   "source": [
    "- IF SUM([sales]) >= 10000 THEN 'high' ElSE 'low' END \n",
    "- IF SUM([sales]) >= 10000 THEN 'high' END\n",
    "- IIF(SUM([sales]) >= 10000 THEN 'high','low') \n",
    "- SUM([sales]) >= 10000\n",
    "    -> T/F 형식이 계산이 빠르므로 지향 \n",
    "   \n",
    "  \n",
    "- IF [Top customers by Profit] THEN 'Customers Name' ElSE 'ETC' END -> 집계함수의 경우 in에 해당되는 값이 조건문에서 해당하는 값과 상응함."
   ]
  }
 ],
 "metadata": {
  "kernelspec": {
   "display_name": "Python 3",
   "language": "python",
   "name": "python3"
  },
  "language_info": {
   "codemirror_mode": {
    "name": "ipython",
    "version": 3
   },
   "file_extension": ".py",
   "mimetype": "text/x-python",
   "name": "python",
   "nbconvert_exporter": "python",
   "pygments_lexer": "ipython3",
   "version": "3.6.4"
  }
 },
 "nbformat": 4,
 "nbformat_minor": 2
}
